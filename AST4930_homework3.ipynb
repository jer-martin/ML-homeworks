{
 "cells": [
  {
   "cell_type": "markdown",
   "metadata": {
    "slideshow": {
     "slide_type": "slide"
    }
   },
   "source": [
    "# AST 4930 Homework Assignment #3 (10 pts)"
   ]
  },
  {
   "cell_type": "markdown",
   "metadata": {},
   "source": [
    "## All work is due Tuesday September 26 at 5 pm.\n",
    "\n",
    "## Instruction: \n",
    "Do all homework in this Jupyter notebook and submit your final .ipynb file via Canvas. Show ALL your work and try to add comment lines as needed to describe what your code does. \n",
    "\n",
    "You are encouraged to discuss homework problems with your classmates. However, your python script and answers to the questions must be written by yourself.\n",
    "\n",
    "It's fine if you use someone else's code you found on Internet, but make sure you write down the source. You don't have to cite me when you use anything from AST4930 Notebook.\n",
    "\n",
    "It's a common sense but just to make sure, when you make a figure make sure they are readable/understandable. If you cannot see the title, labels, data points, or if you don't understand the point of the figure, I won't probably be able to see/understand them either.\n",
    "\n",
    "change for github\n"
   ]
  },
  {
   "cell_type": "markdown",
   "metadata": {},
   "source": [
    "## 1. Curse of dimensionality (4 pts)"
   ]
  },
  {
   "cell_type": "markdown",
   "metadata": {},
   "source": [
    "We learned that kNN suffers from the curse of dimensionality. In class, we estimated the size of a hypercube that includes $k$ nearest neighbors as a function of dimension and number of data points. In this homework, let's look into this problem in a more quantitative way by following the steps below. "
   ]
  },
  {
   "cell_type": "markdown",
   "metadata": {},
   "source": [
    "(a) Make six $D$-dimensional numpy arrays, where we adopt $D = 1, 2, 5, 10, 100,$ and $1000$, each of which contains $n=10^4$ data points that are randomly distributed in the $D$-dimensional space (hint: use np.random.rand). Let's assume that the side of each hypercube ranges from 0 to 1, so the volume of hypercubes is 1. (1 pt)\n"
   ]
  },
  {
   "cell_type": "code",
   "execution_count": 20,
   "metadata": {},
   "outputs": [],
   "source": [
    "import numpy as np\n",
    " \n",
    "n = 10000\n",
    "arr1d = np.random.rand(n,1)"
   ]
  },
  {
   "cell_type": "code",
   "execution_count": 21,
   "metadata": {},
   "outputs": [
    {
     "data": {
      "text/plain": [
       "array([[0.47333684],\n",
       "       [0.57880585],\n",
       "       [0.80877329],\n",
       "       ...,\n",
       "       [0.60027508],\n",
       "       [0.39183008],\n",
       "       [0.88069705]])"
      ]
     },
     "execution_count": 21,
     "metadata": {},
     "output_type": "execute_result"
    }
   ],
   "source": [
    "arr1d"
   ]
  },
  {
   "cell_type": "code",
   "execution_count": 22,
   "metadata": {},
   "outputs": [
    {
     "data": {
      "text/plain": [
       "(10000, 1)"
      ]
     },
     "execution_count": 22,
     "metadata": {},
     "output_type": "execute_result"
    }
   ],
   "source": [
    "arr1d.shape"
   ]
  },
  {
   "cell_type": "code",
   "execution_count": 27,
   "metadata": {},
   "outputs": [
    {
     "name": "stdout",
     "output_type": "stream",
     "text": [
      "(10000, 1)\n",
      "(10000, 2)\n",
      "(10000, 5)\n",
      "(10000, 10)\n",
      "(10000, 100)\n",
      "(10000, 1000)\n"
     ]
    }
   ],
   "source": [
    "import numpy as np\n",
    "n = 10000\n",
    "arr1d = np.random.rand(n, 1)\n",
    "arr2d = np.random.rand(n, 2)\n",
    "arr5d = np.random.rand(n, 5)\n",
    "arr10d = np.random.rand(n, 10)\n",
    "arr100d = np.random.rand(n, 100)\n",
    "arr1000d = np.random.rand(n, 1000)\n",
    "print(arr1d.shape)\n",
    "print(arr2d.shape)\n",
    "print(arr5d.shape)\n",
    "print(arr10d.shape)\n",
    "print(arr100d.shape)\n",
    "print(arr1000d.shape)\n",
    "\n",
    "\n",
    "\n",
    "\n",
    "\n"
   ]
  },
  {
   "cell_type": "markdown",
   "metadata": {},
   "source": [
    "(b) For each array, compute the distance between each data points. Since you have $10^4$ data points in each array, you need to compute distance total $(10,000 \\times 9,999)/2 = 49,995,000$ times. You could use a for loop, but it will be very slow. Instead, I found ``distance_matrix`` from ``scipy.spatial`` does a decent job. Once you computed all the distance, normalize them by the maximum possible distance in each hypercube, that is $\\sqrt{D}$. (1 pt)\n"
   ]
  },
  {
   "cell_type": "code",
   "execution_count": 3,
   "metadata": {},
   "outputs": [
    {
     "name": "stdout",
     "output_type": "stream",
     "text": [
      "init arrays...\n",
      "init arrays complete, init distance matrices...\n"
     ]
    }
   ],
   "source": [
    "import numpy as np\n",
    "import scipy.spatial as sp\n",
    "n = 10000\n",
    "\n",
    "print(\"init arrays...\")\n",
    "\n",
    "arr1d = np.random.rand(n, 1)\n",
    "arr2d = np.random.rand(n, 2)\n",
    "arr5d = np.random.rand(n, 5)\n",
    "arr10d = np.random.rand(n, 10)\n",
    "arr100d = np.random.rand(n, 100)\n",
    "arr1000d = np.random.rand(n, 1000)\n",
    "\n",
    "print(\"init arrays complete, init distance matrices...\")\n",
    "\n",
    "distance_matrix_1d = sp.distance_matrix(arr1d, arr1d)\n",
    "distance_matrix_2d = sp.distance_matrix(arr2d, arr2d)\n",
    "distance_matrix_5d = sp.distance_matrix(arr5d, arr5d)\n",
    "distance_matrix_10d = sp.distance_matrix(arr10d, arr10d)\n",
    "distance_matrix_100d = sp.distance_matrix(arr100d, arr100d)\n",
    "distance_matrix_1000d = sp.distance_matrix(arr1000d, arr1000d)\n",
    "\n",
    "print(\"init distance matrices complete, normalizing...\")\n",
    "\n",
    "normalized_1d = distance_matrix_1d / np.sqrt(1)\n",
    "normalized_2d = distance_matrix_2d / np.sqrt(2)\n",
    "normalized_5d = distance_matrix_5d / np.sqrt(5)\n",
    "normalized_10d = distance_matrix_10d / np.sqrt(10)\n",
    "normalized_100d = distance_matrix_100d / np.sqrt(100)\n",
    "normalized_1000d = distance_matrix_1000d / np.sqrt(1000)\n",
    "\n",
    "print(\"normalization complete\")\n",
    "\n",
    "\n",
    "\n",
    "\n",
    "\n",
    "\n",
    "\n",
    "\n",
    "\n"
   ]
  },
  {
   "cell_type": "markdown",
   "metadata": {},
   "source": [
    "(c) In a single figure, plot histograms showing the number of counts on the y axis vs. normalized distance between data points on the x axis. You have six arrays, so you will have to over-plot six histograms. Label them properly so that readers can understand what the figure shows. (1 pt)\n"
   ]
  },
  {
   "cell_type": "code",
   "execution_count": null,
   "metadata": {},
   "outputs": [],
   "source": [
    "\n",
    "\n",
    "\n",
    "\n",
    "\n",
    "\n",
    "\n",
    "\n"
   ]
  },
  {
   "cell_type": "markdown",
   "metadata": {},
   "source": [
    "(d) Discuss what you see in the figure you made in the context of kNN. (1 pt)"
   ]
  },
  {
   "cell_type": "code",
   "execution_count": null,
   "metadata": {},
   "outputs": [],
   "source": [
    "\n",
    "\n",
    "\n",
    "\n",
    "\n",
    "\n",
    "\n",
    "\n"
   ]
  },
  {
   "cell_type": "markdown",
   "metadata": {},
   "source": [
    "## 2. Classifying objects in SDSS data using kNN and decision tree (6 pts)"
   ]
  },
  {
   "cell_type": "markdown",
   "metadata": {},
   "source": [
    "SDSS.csv file contains various information on 150,000 stars, galaxies, and quasars, including ugriz magnitudes and redshift. Let's build kNN and DT models based on this dataset. You may want to use pandas to read in the data (https://pandas.pydata.org/)."
   ]
  },
  {
   "cell_type": "markdown",
   "metadata": {},
   "source": [
    "(a) Using the provided ugriz magnitudes, compute and store u-g, g-r, r-i, i-z colors for each object. (1 pt)"
   ]
  },
  {
   "cell_type": "code",
   "execution_count": 25,
   "metadata": {},
   "outputs": [
    {
     "ename": "FileNotFoundError",
     "evalue": "[Errno 2] No such file or directory: 'SDSS.csv'",
     "output_type": "error",
     "traceback": [
      "\u001b[0;31m---------------------------------------------------------------------------\u001b[0m",
      "\u001b[0;31mFileNotFoundError\u001b[0m                         Traceback (most recent call last)",
      "Cell \u001b[0;32mIn[25], line 3\u001b[0m\n\u001b[1;32m      1\u001b[0m \u001b[39mimport\u001b[39;00m \u001b[39mpandas\u001b[39;00m \u001b[39mas\u001b[39;00m \u001b[39mpd\u001b[39;00m \n\u001b[0;32m----> 3\u001b[0m data \u001b[39m=\u001b[39m pd\u001b[39m.\u001b[39;49mread_csv(\u001b[39m'\u001b[39;49m\u001b[39mSDSS.csv\u001b[39;49m\u001b[39m'\u001b[39;49m)\n",
      "File \u001b[0;32m/Library/Frameworks/Python.framework/Versions/3.10/lib/python3.10/site-packages/pandas/util/_decorators.py:211\u001b[0m, in \u001b[0;36mdeprecate_kwarg.<locals>._deprecate_kwarg.<locals>.wrapper\u001b[0;34m(*args, **kwargs)\u001b[0m\n\u001b[1;32m    209\u001b[0m     \u001b[39melse\u001b[39;00m:\n\u001b[1;32m    210\u001b[0m         kwargs[new_arg_name] \u001b[39m=\u001b[39m new_arg_value\n\u001b[0;32m--> 211\u001b[0m \u001b[39mreturn\u001b[39;00m func(\u001b[39m*\u001b[39;49margs, \u001b[39m*\u001b[39;49m\u001b[39m*\u001b[39;49mkwargs)\n",
      "File \u001b[0;32m/Library/Frameworks/Python.framework/Versions/3.10/lib/python3.10/site-packages/pandas/util/_decorators.py:317\u001b[0m, in \u001b[0;36mdeprecate_nonkeyword_arguments.<locals>.decorate.<locals>.wrapper\u001b[0;34m(*args, **kwargs)\u001b[0m\n\u001b[1;32m    311\u001b[0m \u001b[39mif\u001b[39;00m \u001b[39mlen\u001b[39m(args) \u001b[39m>\u001b[39m num_allow_args:\n\u001b[1;32m    312\u001b[0m     warnings\u001b[39m.\u001b[39mwarn(\n\u001b[1;32m    313\u001b[0m         msg\u001b[39m.\u001b[39mformat(arguments\u001b[39m=\u001b[39marguments),\n\u001b[1;32m    314\u001b[0m         \u001b[39mFutureWarning\u001b[39;00m,\n\u001b[1;32m    315\u001b[0m         stacklevel\u001b[39m=\u001b[39mfind_stack_level(inspect\u001b[39m.\u001b[39mcurrentframe()),\n\u001b[1;32m    316\u001b[0m     )\n\u001b[0;32m--> 317\u001b[0m \u001b[39mreturn\u001b[39;00m func(\u001b[39m*\u001b[39;49margs, \u001b[39m*\u001b[39;49m\u001b[39m*\u001b[39;49mkwargs)\n",
      "File \u001b[0;32m/Library/Frameworks/Python.framework/Versions/3.10/lib/python3.10/site-packages/pandas/io/parsers/readers.py:950\u001b[0m, in \u001b[0;36mread_csv\u001b[0;34m(filepath_or_buffer, sep, delimiter, header, names, index_col, usecols, squeeze, prefix, mangle_dupe_cols, dtype, engine, converters, true_values, false_values, skipinitialspace, skiprows, skipfooter, nrows, na_values, keep_default_na, na_filter, verbose, skip_blank_lines, parse_dates, infer_datetime_format, keep_date_col, date_parser, dayfirst, cache_dates, iterator, chunksize, compression, thousands, decimal, lineterminator, quotechar, quoting, doublequote, escapechar, comment, encoding, encoding_errors, dialect, error_bad_lines, warn_bad_lines, on_bad_lines, delim_whitespace, low_memory, memory_map, float_precision, storage_options)\u001b[0m\n\u001b[1;32m    935\u001b[0m kwds_defaults \u001b[39m=\u001b[39m _refine_defaults_read(\n\u001b[1;32m    936\u001b[0m     dialect,\n\u001b[1;32m    937\u001b[0m     delimiter,\n\u001b[0;32m   (...)\u001b[0m\n\u001b[1;32m    946\u001b[0m     defaults\u001b[39m=\u001b[39m{\u001b[39m\"\u001b[39m\u001b[39mdelimiter\u001b[39m\u001b[39m\"\u001b[39m: \u001b[39m\"\u001b[39m\u001b[39m,\u001b[39m\u001b[39m\"\u001b[39m},\n\u001b[1;32m    947\u001b[0m )\n\u001b[1;32m    948\u001b[0m kwds\u001b[39m.\u001b[39mupdate(kwds_defaults)\n\u001b[0;32m--> 950\u001b[0m \u001b[39mreturn\u001b[39;00m _read(filepath_or_buffer, kwds)\n",
      "File \u001b[0;32m/Library/Frameworks/Python.framework/Versions/3.10/lib/python3.10/site-packages/pandas/io/parsers/readers.py:605\u001b[0m, in \u001b[0;36m_read\u001b[0;34m(filepath_or_buffer, kwds)\u001b[0m\n\u001b[1;32m    602\u001b[0m _validate_names(kwds\u001b[39m.\u001b[39mget(\u001b[39m\"\u001b[39m\u001b[39mnames\u001b[39m\u001b[39m\"\u001b[39m, \u001b[39mNone\u001b[39;00m))\n\u001b[1;32m    604\u001b[0m \u001b[39m# Create the parser.\u001b[39;00m\n\u001b[0;32m--> 605\u001b[0m parser \u001b[39m=\u001b[39m TextFileReader(filepath_or_buffer, \u001b[39m*\u001b[39;49m\u001b[39m*\u001b[39;49mkwds)\n\u001b[1;32m    607\u001b[0m \u001b[39mif\u001b[39;00m chunksize \u001b[39mor\u001b[39;00m iterator:\n\u001b[1;32m    608\u001b[0m     \u001b[39mreturn\u001b[39;00m parser\n",
      "File \u001b[0;32m/Library/Frameworks/Python.framework/Versions/3.10/lib/python3.10/site-packages/pandas/io/parsers/readers.py:1442\u001b[0m, in \u001b[0;36mTextFileReader.__init__\u001b[0;34m(self, f, engine, **kwds)\u001b[0m\n\u001b[1;32m   1439\u001b[0m     \u001b[39mself\u001b[39m\u001b[39m.\u001b[39moptions[\u001b[39m\"\u001b[39m\u001b[39mhas_index_names\u001b[39m\u001b[39m\"\u001b[39m] \u001b[39m=\u001b[39m kwds[\u001b[39m\"\u001b[39m\u001b[39mhas_index_names\u001b[39m\u001b[39m\"\u001b[39m]\n\u001b[1;32m   1441\u001b[0m \u001b[39mself\u001b[39m\u001b[39m.\u001b[39mhandles: IOHandles \u001b[39m|\u001b[39m \u001b[39mNone\u001b[39;00m \u001b[39m=\u001b[39m \u001b[39mNone\u001b[39;00m\n\u001b[0;32m-> 1442\u001b[0m \u001b[39mself\u001b[39m\u001b[39m.\u001b[39m_engine \u001b[39m=\u001b[39m \u001b[39mself\u001b[39;49m\u001b[39m.\u001b[39;49m_make_engine(f, \u001b[39mself\u001b[39;49m\u001b[39m.\u001b[39;49mengine)\n",
      "File \u001b[0;32m/Library/Frameworks/Python.framework/Versions/3.10/lib/python3.10/site-packages/pandas/io/parsers/readers.py:1729\u001b[0m, in \u001b[0;36mTextFileReader._make_engine\u001b[0;34m(self, f, engine)\u001b[0m\n\u001b[1;32m   1727\u001b[0m     is_text \u001b[39m=\u001b[39m \u001b[39mFalse\u001b[39;00m\n\u001b[1;32m   1728\u001b[0m     mode \u001b[39m=\u001b[39m \u001b[39m\"\u001b[39m\u001b[39mrb\u001b[39m\u001b[39m\"\u001b[39m\n\u001b[0;32m-> 1729\u001b[0m \u001b[39mself\u001b[39m\u001b[39m.\u001b[39mhandles \u001b[39m=\u001b[39m get_handle(\n\u001b[1;32m   1730\u001b[0m     f,\n\u001b[1;32m   1731\u001b[0m     mode,\n\u001b[1;32m   1732\u001b[0m     encoding\u001b[39m=\u001b[39;49m\u001b[39mself\u001b[39;49m\u001b[39m.\u001b[39;49moptions\u001b[39m.\u001b[39;49mget(\u001b[39m\"\u001b[39;49m\u001b[39mencoding\u001b[39;49m\u001b[39m\"\u001b[39;49m, \u001b[39mNone\u001b[39;49;00m),\n\u001b[1;32m   1733\u001b[0m     compression\u001b[39m=\u001b[39;49m\u001b[39mself\u001b[39;49m\u001b[39m.\u001b[39;49moptions\u001b[39m.\u001b[39;49mget(\u001b[39m\"\u001b[39;49m\u001b[39mcompression\u001b[39;49m\u001b[39m\"\u001b[39;49m, \u001b[39mNone\u001b[39;49;00m),\n\u001b[1;32m   1734\u001b[0m     memory_map\u001b[39m=\u001b[39;49m\u001b[39mself\u001b[39;49m\u001b[39m.\u001b[39;49moptions\u001b[39m.\u001b[39;49mget(\u001b[39m\"\u001b[39;49m\u001b[39mmemory_map\u001b[39;49m\u001b[39m\"\u001b[39;49m, \u001b[39mFalse\u001b[39;49;00m),\n\u001b[1;32m   1735\u001b[0m     is_text\u001b[39m=\u001b[39;49mis_text,\n\u001b[1;32m   1736\u001b[0m     errors\u001b[39m=\u001b[39;49m\u001b[39mself\u001b[39;49m\u001b[39m.\u001b[39;49moptions\u001b[39m.\u001b[39;49mget(\u001b[39m\"\u001b[39;49m\u001b[39mencoding_errors\u001b[39;49m\u001b[39m\"\u001b[39;49m, \u001b[39m\"\u001b[39;49m\u001b[39mstrict\u001b[39;49m\u001b[39m\"\u001b[39;49m),\n\u001b[1;32m   1737\u001b[0m     storage_options\u001b[39m=\u001b[39;49m\u001b[39mself\u001b[39;49m\u001b[39m.\u001b[39;49moptions\u001b[39m.\u001b[39;49mget(\u001b[39m\"\u001b[39;49m\u001b[39mstorage_options\u001b[39;49m\u001b[39m\"\u001b[39;49m, \u001b[39mNone\u001b[39;49;00m),\n\u001b[1;32m   1738\u001b[0m )\n\u001b[1;32m   1739\u001b[0m \u001b[39massert\u001b[39;00m \u001b[39mself\u001b[39m\u001b[39m.\u001b[39mhandles \u001b[39mis\u001b[39;00m \u001b[39mnot\u001b[39;00m \u001b[39mNone\u001b[39;00m\n\u001b[1;32m   1740\u001b[0m f \u001b[39m=\u001b[39m \u001b[39mself\u001b[39m\u001b[39m.\u001b[39mhandles\u001b[39m.\u001b[39mhandle\n",
      "File \u001b[0;32m/Library/Frameworks/Python.framework/Versions/3.10/lib/python3.10/site-packages/pandas/io/common.py:857\u001b[0m, in \u001b[0;36mget_handle\u001b[0;34m(path_or_buf, mode, encoding, compression, memory_map, is_text, errors, storage_options)\u001b[0m\n\u001b[1;32m    852\u001b[0m \u001b[39melif\u001b[39;00m \u001b[39misinstance\u001b[39m(handle, \u001b[39mstr\u001b[39m):\n\u001b[1;32m    853\u001b[0m     \u001b[39m# Check whether the filename is to be opened in binary mode.\u001b[39;00m\n\u001b[1;32m    854\u001b[0m     \u001b[39m# Binary mode does not support 'encoding' and 'newline'.\u001b[39;00m\n\u001b[1;32m    855\u001b[0m     \u001b[39mif\u001b[39;00m ioargs\u001b[39m.\u001b[39mencoding \u001b[39mand\u001b[39;00m \u001b[39m\"\u001b[39m\u001b[39mb\u001b[39m\u001b[39m\"\u001b[39m \u001b[39mnot\u001b[39;00m \u001b[39min\u001b[39;00m ioargs\u001b[39m.\u001b[39mmode:\n\u001b[1;32m    856\u001b[0m         \u001b[39m# Encoding\u001b[39;00m\n\u001b[0;32m--> 857\u001b[0m         handle \u001b[39m=\u001b[39m \u001b[39mopen\u001b[39;49m(\n\u001b[1;32m    858\u001b[0m             handle,\n\u001b[1;32m    859\u001b[0m             ioargs\u001b[39m.\u001b[39;49mmode,\n\u001b[1;32m    860\u001b[0m             encoding\u001b[39m=\u001b[39;49mioargs\u001b[39m.\u001b[39;49mencoding,\n\u001b[1;32m    861\u001b[0m             errors\u001b[39m=\u001b[39;49merrors,\n\u001b[1;32m    862\u001b[0m             newline\u001b[39m=\u001b[39;49m\u001b[39m\"\u001b[39;49m\u001b[39m\"\u001b[39;49m,\n\u001b[1;32m    863\u001b[0m         )\n\u001b[1;32m    864\u001b[0m     \u001b[39melse\u001b[39;00m:\n\u001b[1;32m    865\u001b[0m         \u001b[39m# Binary mode\u001b[39;00m\n\u001b[1;32m    866\u001b[0m         handle \u001b[39m=\u001b[39m \u001b[39mopen\u001b[39m(handle, ioargs\u001b[39m.\u001b[39mmode)\n",
      "\u001b[0;31mFileNotFoundError\u001b[0m: [Errno 2] No such file or directory: 'SDSS.csv'"
     ]
    }
   ],
   "source": [
    "import pandas as pd \n",
    "\n",
    "data = pd.read_csv('SDSS.csv')"
   ]
  },
  {
   "cell_type": "code",
   "execution_count": null,
   "metadata": {},
   "outputs": [
    {
     "data": {
      "text/html": [
       "<div>\n",
       "<style scoped>\n",
       "    .dataframe tbody tr th:only-of-type {\n",
       "        vertical-align: middle;\n",
       "    }\n",
       "\n",
       "    .dataframe tbody tr th {\n",
       "        vertical-align: top;\n",
       "    }\n",
       "\n",
       "    .dataframe thead th {\n",
       "        text-align: right;\n",
       "    }\n",
       "</style>\n",
       "<table border=\"1\" class=\"dataframe\">\n",
       "  <thead>\n",
       "    <tr style=\"text-align: right;\">\n",
       "      <th></th>\n",
       "      <th>objid</th>\n",
       "      <th>ra</th>\n",
       "      <th>dec</th>\n",
       "      <th>u</th>\n",
       "      <th>g</th>\n",
       "      <th>r</th>\n",
       "      <th>i</th>\n",
       "      <th>z</th>\n",
       "      <th>run</th>\n",
       "      <th>rerun</th>\n",
       "      <th>camcol</th>\n",
       "      <th>field</th>\n",
       "      <th>specobjid</th>\n",
       "      <th>class</th>\n",
       "      <th>redshift</th>\n",
       "      <th>plate</th>\n",
       "      <th>mjd</th>\n",
       "      <th>fiberid</th>\n",
       "    </tr>\n",
       "  </thead>\n",
       "  <tbody>\n",
       "    <tr>\n",
       "      <th>0</th>\n",
       "      <td>1237655107828973746</td>\n",
       "      <td>138.937318</td>\n",
       "      <td>49.779249</td>\n",
       "      <td>17.32152</td>\n",
       "      <td>16.28594</td>\n",
       "      <td>15.88471</td>\n",
       "      <td>15.66384</td>\n",
       "      <td>15.46604</td>\n",
       "      <td>2243</td>\n",
       "      <td>301</td>\n",
       "      <td>3</td>\n",
       "      <td>152</td>\n",
       "      <td>862475375345690624</td>\n",
       "      <td>GALAXY</td>\n",
       "      <td>0.028514</td>\n",
       "      <td>766</td>\n",
       "      <td>52247</td>\n",
       "      <td>131</td>\n",
       "    </tr>\n",
       "    <tr>\n",
       "      <th>1</th>\n",
       "      <td>1237678584114511952</td>\n",
       "      <td>31.594644</td>\n",
       "      <td>22.451246</td>\n",
       "      <td>18.13019</td>\n",
       "      <td>17.47997</td>\n",
       "      <td>16.97868</td>\n",
       "      <td>16.75768</td>\n",
       "      <td>16.83714</td>\n",
       "      <td>7709</td>\n",
       "      <td>301</td>\n",
       "      <td>3</td>\n",
       "      <td>65</td>\n",
       "      <td>2303710287351539712</td>\n",
       "      <td>QSO</td>\n",
       "      <td>1.694959</td>\n",
       "      <td>2046</td>\n",
       "      <td>53327</td>\n",
       "      <td>433</td>\n",
       "    </tr>\n",
       "    <tr>\n",
       "      <th>2</th>\n",
       "      <td>1237680298881122360</td>\n",
       "      <td>333.991221</td>\n",
       "      <td>19.977552</td>\n",
       "      <td>18.94798</td>\n",
       "      <td>18.80473</td>\n",
       "      <td>18.75522</td>\n",
       "      <td>18.72968</td>\n",
       "      <td>18.66552</td>\n",
       "      <td>8108</td>\n",
       "      <td>301</td>\n",
       "      <td>5</td>\n",
       "      <td>79</td>\n",
       "      <td>8532228490187264000</td>\n",
       "      <td>QSO</td>\n",
       "      <td>2.046520</td>\n",
       "      <td>7578</td>\n",
       "      <td>56956</td>\n",
       "      <td>578</td>\n",
       "    </tr>\n",
       "    <tr>\n",
       "      <th>3</th>\n",
       "      <td>1237650761319514319</td>\n",
       "      <td>186.201096</td>\n",
       "      <td>-2.808180</td>\n",
       "      <td>19.22969</td>\n",
       "      <td>18.04638</td>\n",
       "      <td>17.37830</td>\n",
       "      <td>16.99285</td>\n",
       "      <td>16.76479</td>\n",
       "      <td>1231</td>\n",
       "      <td>301</td>\n",
       "      <td>3</td>\n",
       "      <td>113</td>\n",
       "      <td>376103378880587776</td>\n",
       "      <td>GALAXY</td>\n",
       "      <td>0.000000</td>\n",
       "      <td>334</td>\n",
       "      <td>51993</td>\n",
       "      <td>192</td>\n",
       "    </tr>\n",
       "    <tr>\n",
       "      <th>4</th>\n",
       "      <td>1237648722280317126</td>\n",
       "      <td>124.814240</td>\n",
       "      <td>0.651496</td>\n",
       "      <td>18.76061</td>\n",
       "      <td>17.28682</td>\n",
       "      <td>16.74055</td>\n",
       "      <td>16.55152</td>\n",
       "      <td>16.45902</td>\n",
       "      <td>756</td>\n",
       "      <td>301</td>\n",
       "      <td>5</td>\n",
       "      <td>60</td>\n",
       "      <td>2316149895234349056</td>\n",
       "      <td>STAR</td>\n",
       "      <td>0.000196</td>\n",
       "      <td>2057</td>\n",
       "      <td>53816</td>\n",
       "      <td>632</td>\n",
       "    </tr>\n",
       "    <tr>\n",
       "      <th>...</th>\n",
       "      <td>...</td>\n",
       "      <td>...</td>\n",
       "      <td>...</td>\n",
       "      <td>...</td>\n",
       "      <td>...</td>\n",
       "      <td>...</td>\n",
       "      <td>...</td>\n",
       "      <td>...</td>\n",
       "      <td>...</td>\n",
       "      <td>...</td>\n",
       "      <td>...</td>\n",
       "      <td>...</td>\n",
       "      <td>...</td>\n",
       "      <td>...</td>\n",
       "      <td>...</td>\n",
       "      <td>...</td>\n",
       "      <td>...</td>\n",
       "      <td>...</td>\n",
       "    </tr>\n",
       "    <tr>\n",
       "      <th>149995</th>\n",
       "      <td>1237673758185554973</td>\n",
       "      <td>100.889697</td>\n",
       "      <td>29.106283</td>\n",
       "      <td>19.17071</td>\n",
       "      <td>18.21106</td>\n",
       "      <td>17.80099</td>\n",
       "      <td>17.63203</td>\n",
       "      <td>17.53079</td>\n",
       "      <td>6585</td>\n",
       "      <td>301</td>\n",
       "      <td>6</td>\n",
       "      <td>121</td>\n",
       "      <td>3013004977846118400</td>\n",
       "      <td>STAR</td>\n",
       "      <td>0.000160</td>\n",
       "      <td>2676</td>\n",
       "      <td>54179</td>\n",
       "      <td>352</td>\n",
       "    </tr>\n",
       "    <tr>\n",
       "      <th>149996</th>\n",
       "      <td>1237671262268752282</td>\n",
       "      <td>124.964450</td>\n",
       "      <td>9.635759</td>\n",
       "      <td>19.38253</td>\n",
       "      <td>17.49415</td>\n",
       "      <td>16.55436</td>\n",
       "      <td>16.13420</td>\n",
       "      <td>15.80408</td>\n",
       "      <td>6004</td>\n",
       "      <td>301</td>\n",
       "      <td>5</td>\n",
       "      <td>61</td>\n",
       "      <td>2728125362876737536</td>\n",
       "      <td>GALAXY</td>\n",
       "      <td>0.110984</td>\n",
       "      <td>2423</td>\n",
       "      <td>54149</td>\n",
       "      <td>254</td>\n",
       "    </tr>\n",
       "    <tr>\n",
       "      <th>149997</th>\n",
       "      <td>1237673756573762584</td>\n",
       "      <td>98.821075</td>\n",
       "      <td>26.946457</td>\n",
       "      <td>18.90948</td>\n",
       "      <td>17.73591</td>\n",
       "      <td>17.31252</td>\n",
       "      <td>17.16612</td>\n",
       "      <td>17.07103</td>\n",
       "      <td>6585</td>\n",
       "      <td>301</td>\n",
       "      <td>3</td>\n",
       "      <td>103</td>\n",
       "      <td>3035579600630474752</td>\n",
       "      <td>STAR</td>\n",
       "      <td>0.000097</td>\n",
       "      <td>2696</td>\n",
       "      <td>54167</td>\n",
       "      <td>558</td>\n",
       "    </tr>\n",
       "    <tr>\n",
       "      <th>149998</th>\n",
       "      <td>1237678877782966354</td>\n",
       "      <td>320.766012</td>\n",
       "      <td>9.993010</td>\n",
       "      <td>17.63177</td>\n",
       "      <td>16.10855</td>\n",
       "      <td>15.35884</td>\n",
       "      <td>15.21912</td>\n",
       "      <td>15.11279</td>\n",
       "      <td>7777</td>\n",
       "      <td>301</td>\n",
       "      <td>6</td>\n",
       "      <td>66</td>\n",
       "      <td>821986413082863616</td>\n",
       "      <td>STAR</td>\n",
       "      <td>-0.000218</td>\n",
       "      <td>730</td>\n",
       "      <td>52466</td>\n",
       "      <td>289</td>\n",
       "    </tr>\n",
       "    <tr>\n",
       "      <th>149999</th>\n",
       "      <td>1237671124296204669</td>\n",
       "      <td>132.118725</td>\n",
       "      <td>10.789925</td>\n",
       "      <td>19.17574</td>\n",
       "      <td>17.70970</td>\n",
       "      <td>16.85068</td>\n",
       "      <td>16.41647</td>\n",
       "      <td>16.14956</td>\n",
       "      <td>5972</td>\n",
       "      <td>301</td>\n",
       "      <td>4</td>\n",
       "      <td>111</td>\n",
       "      <td>2898128276260153344</td>\n",
       "      <td>GALAXY</td>\n",
       "      <td>0.174877</td>\n",
       "      <td>2574</td>\n",
       "      <td>54084</td>\n",
       "      <td>225</td>\n",
       "    </tr>\n",
       "  </tbody>\n",
       "</table>\n",
       "<p>150000 rows × 18 columns</p>\n",
       "</div>"
      ],
      "text/plain": [
       "                      objid          ra        dec         u         g  \\\n",
       "0       1237655107828973746  138.937318  49.779249  17.32152  16.28594   \n",
       "1       1237678584114511952   31.594644  22.451246  18.13019  17.47997   \n",
       "2       1237680298881122360  333.991221  19.977552  18.94798  18.80473   \n",
       "3       1237650761319514319  186.201096  -2.808180  19.22969  18.04638   \n",
       "4       1237648722280317126  124.814240   0.651496  18.76061  17.28682   \n",
       "...                     ...         ...        ...       ...       ...   \n",
       "149995  1237673758185554973  100.889697  29.106283  19.17071  18.21106   \n",
       "149996  1237671262268752282  124.964450   9.635759  19.38253  17.49415   \n",
       "149997  1237673756573762584   98.821075  26.946457  18.90948  17.73591   \n",
       "149998  1237678877782966354  320.766012   9.993010  17.63177  16.10855   \n",
       "149999  1237671124296204669  132.118725  10.789925  19.17574  17.70970   \n",
       "\n",
       "               r         i         z   run  rerun  camcol  field  \\\n",
       "0       15.88471  15.66384  15.46604  2243    301       3    152   \n",
       "1       16.97868  16.75768  16.83714  7709    301       3     65   \n",
       "2       18.75522  18.72968  18.66552  8108    301       5     79   \n",
       "3       17.37830  16.99285  16.76479  1231    301       3    113   \n",
       "4       16.74055  16.55152  16.45902   756    301       5     60   \n",
       "...          ...       ...       ...   ...    ...     ...    ...   \n",
       "149995  17.80099  17.63203  17.53079  6585    301       6    121   \n",
       "149996  16.55436  16.13420  15.80408  6004    301       5     61   \n",
       "149997  17.31252  17.16612  17.07103  6585    301       3    103   \n",
       "149998  15.35884  15.21912  15.11279  7777    301       6     66   \n",
       "149999  16.85068  16.41647  16.14956  5972    301       4    111   \n",
       "\n",
       "                  specobjid   class  redshift  plate    mjd  fiberid  \n",
       "0        862475375345690624  GALAXY  0.028514    766  52247      131  \n",
       "1       2303710287351539712     QSO  1.694959   2046  53327      433  \n",
       "2       8532228490187264000     QSO  2.046520   7578  56956      578  \n",
       "3        376103378880587776  GALAXY  0.000000    334  51993      192  \n",
       "4       2316149895234349056    STAR  0.000196   2057  53816      632  \n",
       "...                     ...     ...       ...    ...    ...      ...  \n",
       "149995  3013004977846118400    STAR  0.000160   2676  54179      352  \n",
       "149996  2728125362876737536  GALAXY  0.110984   2423  54149      254  \n",
       "149997  3035579600630474752    STAR  0.000097   2696  54167      558  \n",
       "149998   821986413082863616    STAR -0.000218    730  52466      289  \n",
       "149999  2898128276260153344  GALAXY  0.174877   2574  54084      225  \n",
       "\n",
       "[150000 rows x 18 columns]"
      ]
     },
     "execution_count": 5,
     "metadata": {},
     "output_type": "execute_result"
    }
   ],
   "source": [
    "data"
   ]
  },
  {
   "cell_type": "code",
   "execution_count": null,
   "metadata": {},
   "outputs": [
    {
     "data": {
      "text/plain": [
       "0         17.32152\n",
       "1         18.13019\n",
       "2         18.94798\n",
       "3         19.22969\n",
       "4         18.76061\n",
       "            ...   \n",
       "149995    19.17071\n",
       "149996    19.38253\n",
       "149997    18.90948\n",
       "149998    17.63177\n",
       "149999    19.17574\n",
       "Name: u, Length: 150000, dtype: float64"
      ]
     },
     "execution_count": 6,
     "metadata": {},
     "output_type": "execute_result"
    }
   ],
   "source": [
    "data['u']"
   ]
  },
  {
   "cell_type": "code",
   "execution_count": null,
   "metadata": {},
   "outputs": [
    {
     "data": {
      "text/plain": [
       "0         GALAXY\n",
       "1            QSO\n",
       "2            QSO\n",
       "3         GALAXY\n",
       "4           STAR\n",
       "           ...  \n",
       "149995      STAR\n",
       "149996    GALAXY\n",
       "149997      STAR\n",
       "149998      STAR\n",
       "149999    GALAXY\n",
       "Name: class, Length: 150000, dtype: object"
      ]
     },
     "execution_count": 8,
     "metadata": {},
     "output_type": "execute_result"
    }
   ],
   "source": [
    "data['class']"
   ]
  },
  {
   "cell_type": "code",
   "execution_count": null,
   "metadata": {},
   "outputs": [],
   "source": [
    "\n",
    "\n",
    "\n",
    "\n",
    "\n",
    "\n",
    "\n",
    "\n"
   ]
  },
  {
   "cell_type": "markdown",
   "metadata": {},
   "source": [
    "(b) Make a kNN model. Vary $k$ from 1 to 30 and make a figure showing training/test accuracy vs. $k$. What is the optimal $k$ that results in the highest test accuracy? (1 pt)"
   ]
  },
  {
   "cell_type": "code",
   "execution_count": null,
   "metadata": {},
   "outputs": [],
   "source": [
    "\n",
    "\n",
    "\n",
    "\n",
    "\n",
    "\n",
    "\n",
    "\n"
   ]
  },
  {
   "cell_type": "markdown",
   "metadata": {},
   "source": [
    "(c) Make a DT model. Vary max_depth from 1 to 30 and make a figure showing training/test accuracy vs. max_depth. What is the optimal max_depth that results in the highest test accuracy? (1 pt)"
   ]
  },
  {
   "cell_type": "code",
   "execution_count": null,
   "metadata": {},
   "outputs": [],
   "source": [
    "\n",
    "\n",
    "\n",
    "\n",
    "\n",
    "\n",
    "\n",
    "\n"
   ]
  },
  {
   "cell_type": "markdown",
   "metadata": {},
   "source": [
    "(d) For your best decision tree model, which features are the most important? (1 pt)"
   ]
  },
  {
   "cell_type": "code",
   "execution_count": null,
   "metadata": {},
   "outputs": [],
   "source": [
    "\n",
    "\n",
    "\n",
    "\n",
    "\n",
    "\n",
    "\n",
    "\n"
   ]
  },
  {
   "cell_type": "markdown",
   "metadata": {},
   "source": [
    "(e) SDSS_evaluation.csv file contains another 150,000 stars, galaxies, and quasars. Using the best kNN and decision tree models you obtained, make predictions for this new dataset and compute the accuracy. (1 pt)"
   ]
  },
  {
   "cell_type": "code",
   "execution_count": null,
   "metadata": {},
   "outputs": [],
   "source": [
    "\n",
    "\n",
    "\n",
    "\n",
    "\n",
    "\n",
    "\n",
    "\n"
   ]
  },
  {
   "cell_type": "markdown",
   "metadata": {},
   "source": [
    "(f) You should have gotten poor performance from your kNN and decision tree models unless you did some magic. Have a look at the your training/evaluation datasets and discuss what might have caused poor performace. (1 pt)"
   ]
  },
  {
   "cell_type": "code",
   "execution_count": null,
   "metadata": {},
   "outputs": [],
   "source": [
    "\n",
    "\n",
    "\n",
    "\n",
    "\n",
    "\n",
    "\n",
    "\n"
   ]
  }
 ],
 "metadata": {
  "kernelspec": {
   "display_name": "Python 3 (ipykernel)",
   "language": "python",
   "name": "python3"
  },
  "language_info": {
   "codemirror_mode": {
    "name": "ipython",
    "version": 3
   },
   "file_extension": ".py",
   "mimetype": "text/x-python",
   "name": "python",
   "nbconvert_exporter": "python",
   "pygments_lexer": "ipython3",
   "version": "3.11.5"
  }
 },
 "nbformat": 4,
 "nbformat_minor": 4
}

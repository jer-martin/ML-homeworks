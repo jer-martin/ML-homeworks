{
 "cells": [
  {
   "cell_type": "markdown",
   "metadata": {
    "slideshow": {
     "slide_type": "slide"
    }
   },
   "source": [
    "# AST 4930 Homework Assignment #3 (10 pts)"
   ]
  },
  {
   "cell_type": "markdown",
   "metadata": {},
   "source": [
    "## All work is due Tuesday September 26 at 5 pm.\n",
    "\n",
    "## Instruction: \n",
    "Do all homework in this Jupyter notebook and submit your final .ipynb file via Canvas. Show ALL your work and try to add comment lines as needed to describe what your code does. \n",
    "\n",
    "You are encouraged to discuss homework problems with your classmates. However, your python script and answers to the questions must be written by yourself.\n",
    "\n",
    "It's fine if you use someone else's code you found on Internet, but make sure you write down the source. You don't have to cite me when you use anything from AST4930 Notebook.\n",
    "\n",
    "It's a common sense but just to make sure, when you make a figure make sure they are readable/understandable. If you cannot see the title, labels, data points, or if you don't understand the point of the figure, I won't probably be able to see/understand them either.\n",
    "\n",
    "change for github\n"
   ]
  },
  {
   "cell_type": "markdown",
   "metadata": {},
   "source": [
    "## 1. Curse of dimensionality (4 pts)"
   ]
  },
  {
   "cell_type": "markdown",
   "metadata": {},
   "source": [
    "We learned that kNN suffers from the curse of dimensionality. In class, we estimated the size of a hypercube that includes $k$ nearest neighbors as a function of dimension and number of data points. In this homework, let's look into this problem in a more quantitative way by following the steps below. "
   ]
  },
  {
   "cell_type": "markdown",
   "metadata": {},
   "source": [
    "(a) Make six $D$-dimensional numpy arrays, where we adopt $D = 1, 2, 5, 10, 100,$ and $1000$, each of which contains $n=10^4$ data points that are randomly distributed in the $D$-dimensional space (hint: use np.random.rand). Let's assume that the side of each hypercube ranges from 0 to 1, so the volume of hypercubes is 1. (1 pt)\n"
   ]
  },
  {
   "cell_type": "code",
   "execution_count": 20,
   "metadata": {},
   "outputs": [],
   "source": [
    "import numpy as np\n",
    " \n",
    "n = 10000\n",
    "arr1d = np.random.rand(n,1)"
   ]
  },
  {
   "cell_type": "code",
   "execution_count": 21,
   "metadata": {},
   "outputs": [
    {
     "data": {
      "text/plain": [
       "array([[0.47333684],\n",
       "       [0.57880585],\n",
       "       [0.80877329],\n",
       "       ...,\n",
       "       [0.60027508],\n",
       "       [0.39183008],\n",
       "       [0.88069705]])"
      ]
     },
     "execution_count": 21,
     "metadata": {},
     "output_type": "execute_result"
    }
   ],
   "source": [
    "arr1d"
   ]
  },
  {
   "cell_type": "code",
   "execution_count": 22,
   "metadata": {},
   "outputs": [
    {
     "data": {
      "text/plain": [
       "(10000, 1)"
      ]
     },
     "execution_count": 22,
     "metadata": {},
     "output_type": "execute_result"
    }
   ],
   "source": [
    "arr1d.shape"
   ]
  },
  {
   "cell_type": "code",
   "execution_count": 27,
   "metadata": {},
   "outputs": [
    {
     "name": "stdout",
     "output_type": "stream",
     "text": [
      "(10000, 1)\n",
      "(10000, 2)\n",
      "(10000, 5)\n",
      "(10000, 10)\n",
      "(10000, 100)\n",
      "(10000, 1000)\n"
     ]
    }
   ],
   "source": [
    "import numpy as np\n",
    "n = 10000\n",
    "arr1d = np.random.rand(n, 1)\n",
    "arr2d = np.random.rand(n, 2)\n",
    "arr5d = np.random.rand(n, 5)\n",
    "arr10d = np.random.rand(n, 10)\n",
    "arr100d = np.random.rand(n, 100)\n",
    "arr1000d = np.random.rand(n, 1000)\n",
    "print(arr1d.shape)\n",
    "print(arr2d.shape)\n",
    "print(arr5d.shape)\n",
    "print(arr10d.shape)\n",
    "print(arr100d.shape)\n",
    "print(arr1000d.shape)\n",
    "\n",
    "\n",
    "\n",
    "\n",
    "\n"
   ]
  },
  {
   "cell_type": "markdown",
   "metadata": {},
   "source": [
    "(b) For each array, compute the distance between each data points. Since you have $10^4$ data points in each array, you need to compute distance total $(10,000 \\times 9,999)/2 = 49,995,000$ times. You could use a for loop, but it will be very slow. Instead, I found ``distance_matrix`` from ``scipy.spatial`` does a decent job. Once you computed all the distance, normalize them by the maximum possible distance in each hypercube, that is $\\sqrt{D}$. (1 pt)\n"
   ]
  },
  {
   "cell_type": "code",
   "execution_count": 3,
   "metadata": {},
   "outputs": [
    {
     "name": "stdout",
     "output_type": "stream",
     "text": [
      "init arrays...\n",
      "init arrays complete, init distance matrices...\n",
      "init distance matrices complete, normalizing...\n",
      "normalization complete\n"
     ]
    }
   ],
   "source": [
    "import numpy as np\n",
    "import scipy.spatial as sp\n",
    "n = 10000\n",
    "\n",
    "print(\"init arrays...\")\n",
    "\n",
    "arr1d = np.random.rand(n, 1)\n",
    "arr2d = np.random.rand(n, 2)\n",
    "arr5d = np.random.rand(n, 5)\n",
    "arr10d = np.random.rand(n, 10)\n",
    "arr100d = np.random.rand(n, 100)\n",
    "arr1000d = np.random.rand(n, 1000)\n",
    "\n",
    "print(\"init arrays complete, init distance matrices...\")\n",
    "\n",
    "distance_matrix_1d = sp.distance_matrix(arr1d, arr1d)\n",
    "distance_matrix_2d = sp.distance_matrix(arr2d, arr2d)\n",
    "distance_matrix_5d = sp.distance_matrix(arr5d, arr5d)\n",
    "distance_matrix_10d = sp.distance_matrix(arr10d, arr10d)\n",
    "distance_matrix_100d = sp.distance_matrix(arr100d, arr100d)\n",
    "distance_matrix_1000d = sp.distance_matrix(arr1000d, arr1000d)\n",
    "\n",
    "print(\"init distance matrices complete, normalizing...\")\n",
    "\n",
    "normalized_1d = distance_matrix_1d / np.sqrt(1)\n",
    "normalized_2d = distance_matrix_2d / np.sqrt(2)\n",
    "normalized_5d = distance_matrix_5d / np.sqrt(5)\n",
    "normalized_10d = distance_matrix_10d / np.sqrt(10)\n",
    "normalized_100d = distance_matrix_100d / np.sqrt(100)\n",
    "normalized_1000d = distance_matrix_1000d / np.sqrt(1000)\n",
    "\n",
    "print(\"normalization complete\")\n",
    "\n",
    "\n",
    "\n",
    "\n",
    "\n",
    "\n",
    "\n",
    "\n",
    "\n"
   ]
  },
  {
   "cell_type": "markdown",
   "metadata": {},
   "source": [
    "(c) In a single figure, plot histograms showing the number of counts on the y axis vs. normalized distance between data points on the x axis. You have six arrays, so you will have to over-plot six histograms. Label them properly so that readers can understand what the figure shows. (1 pt)\n"
   ]
  },
  {
   "cell_type": "code",
   "execution_count": 4,
   "metadata": {},
   "outputs": [
    {
     "data": {
      "image/png": "[encoded data removed]",
      "text/plain": [
       "<Figure size 1000x600 with 1 Axes>"
      ]
     },
     "metadata": {},
     "output_type": "display_data"
    }
   ],
   "source": [
    "\n",
    "import matplotlib.pyplot as plt\n",
    "\n",
    "# Flatten the matrices into 1D arrays\n",
    "flattened_distances = [\n",
    "    normalized_1d.ravel(),\n",
    "    normalized_2d.ravel(),\n",
    "    normalized_5d.ravel(),\n",
    "    normalized_10d.ravel(),\n",
    "    normalized_100d.ravel(),\n",
    "    normalized_1000d.ravel()\n",
    "]\n",
    "\n",
    "labels = [\"1D\", \"2D\", \"5D\", \"10D\", \"100D\", \"1000D\"]\n",
    "\n",
    "plt.figure(figsize=(10, 6))\n",
    "\n",
    "# Plotting each histogram\n",
    "for distances, label in zip(flattened_distances, labels):\n",
    "    plt.hist(distances, bins=50, alpha=0.5, label=label, density=True)  # `density=True` ensures the histograms are normalized\n",
    "\n",
    "plt.title(\"Histogram of Normalized Distances\")\n",
    "plt.xlabel(\"Normalized Distance\")\n",
    "plt.ylabel(\"Density\")\n",
    "plt.legend(loc=\"upper right\")  # Display the labels\n",
    "\n",
    "plt.show()\n",
    "\n",
    "\n",
    "\n",
    "\n",
    "\n",
    "\n",
    "\n"
   ]
  },
  {
   "cell_type": "markdown",
   "metadata": {},
   "source": [
    "(d) Discuss what you see in the figure you made in the context of kNN. (1 pt)"
   ]
  },
  {
   "cell_type": "markdown",
   "metadata": {},
   "source": [
    "As dimensions get larger, the points tend to concentrate. As this is the case, to an observer these points may seem to get farther apart. However, relative to each other, they are approximately the same distance. This means that kNN is weaker because it gets harder to discern which points are truly close and which are far, which explains the 'curse of dimensionality.'\n",
    "\n",
    "\n",
    "\n",
    "\n",
    "\n",
    "\n",
    "\n"
   ]
  },
  {
   "cell_type": "markdown",
   "metadata": {},
   "source": [
    "## 2. Classifying objects in SDSS data using kNN and decision tree (6 pts)"
   ]
  },
  {
   "cell_type": "markdown",
   "metadata": {},
   "source": [
    "SDSS.csv file contains various information on 150,000 stars, galaxies, and quasars, including ugriz magnitudes and redshift. Let's build kNN and DT models based on this dataset. You may want to use pandas to read in the data (https://pandas.pydata.org/)."
   ]
  },
  {
   "cell_type": "markdown",
   "metadata": {},
   "source": [
    "(a) Using the provided ugriz magnitudes, compute and store u-g, g-r, r-i, i-z colors for each object. (1 pt)"
   ]
  },
  {
   "cell_type": "code",
   "execution_count": 6,
   "metadata": {},
   "outputs": [],
   "source": [
    "import pandas as pd \n",
    "\n",
    "data = pd.read_csv('sdss/SDSS.csv')"
   ]
  },
  {
   "cell_type": "code",
   "execution_count": null,
   "metadata": {},
   "outputs": [
    {
     "data": {
      "text/html": [
       "<div>\n",
       "<style scoped>\n",
       "    .dataframe tbody tr th:only-of-type {\n",
       "        vertical-align: middle;\n",
       "    }\n",
       "\n",
       "    .dataframe tbody tr th {\n",
       "        vertical-align: top;\n",
       "    }\n",
       "\n",
       "    .dataframe thead th {\n",
       "        text-align: right;\n",
       "    }\n",
       "</style>\n",
       "<table border=\"1\" class=\"dataframe\">\n",
       "  <thead>\n",
       "    <tr style=\"text-align: right;\">\n",
       "      <th></th>\n",
       "      <th>objid</th>\n",
       "      <th>ra</th>\n",
       "      <th>dec</th>\n",
       "      <th>u</th>\n",
       "      <th>g</th>\n",
       "      <th>r</th>\n",
       "      <th>i</th>\n",
       "      <th>z</th>\n",
       "      <th>run</th>\n",
       "      <th>rerun</th>\n",
       "      <th>camcol</th>\n",
       "      <th>field</th>\n",
       "      <th>specobjid</th>\n",
       "      <th>class</th>\n",
       "      <th>redshift</th>\n",
       "      <th>plate</th>\n",
       "      <th>mjd</th>\n",
       "      <th>fiberid</th>\n",
       "    </tr>\n",
       "  </thead>\n",
       "  <tbody>\n",
       "    <tr>\n",
       "      <th>0</th>\n",
       "      <td>1237655107828973746</td>\n",
       "      <td>138.937318</td>\n",
       "      <td>49.779249</td>\n",
       "      <td>17.32152</td>\n",
       "      <td>16.28594</td>\n",
       "      <td>15.88471</td>\n",
       "      <td>15.66384</td>\n",
       "      <td>15.46604</td>\n",
       "      <td>2243</td>\n",
       "      <td>301</td>\n",
       "      <td>3</td>\n",
       "      <td>152</td>\n",
       "      <td>862475375345690624</td>\n",
       "      <td>GALAXY</td>\n",
       "      <td>0.028514</td>\n",
       "      <td>766</td>\n",
       "      <td>52247</td>\n",
       "      <td>131</td>\n",
       "    </tr>\n",
       "    <tr>\n",
       "      <th>1</th>\n",
       "      <td>1237678584114511952</td>\n",
       "      <td>31.594644</td>\n",
       "      <td>22.451246</td>\n",
       "      <td>18.13019</td>\n",
       "      <td>17.47997</td>\n",
       "      <td>16.97868</td>\n",
       "      <td>16.75768</td>\n",
       "      <td>16.83714</td>\n",
       "      <td>7709</td>\n",
       "      <td>301</td>\n",
       "      <td>3</td>\n",
       "      <td>65</td>\n",
       "      <td>2303710287351539712</td>\n",
       "      <td>QSO</td>\n",
       "      <td>1.694959</td>\n",
       "      <td>2046</td>\n",
       "      <td>53327</td>\n",
       "      <td>433</td>\n",
       "    </tr>\n",
       "    <tr>\n",
       "      <th>2</th>\n",
       "      <td>1237680298881122360</td>\n",
       "      <td>333.991221</td>\n",
       "      <td>19.977552</td>\n",
       "      <td>18.94798</td>\n",
       "      <td>18.80473</td>\n",
       "      <td>18.75522</td>\n",
       "      <td>18.72968</td>\n",
       "      <td>18.66552</td>\n",
       "      <td>8108</td>\n",
       "      <td>301</td>\n",
       "      <td>5</td>\n",
       "      <td>79</td>\n",
       "      <td>8532228490187264000</td>\n",
       "      <td>QSO</td>\n",
       "      <td>2.046520</td>\n",
       "      <td>7578</td>\n",
       "      <td>56956</td>\n",
       "      <td>578</td>\n",
       "    </tr>\n",
       "    <tr>\n",
       "      <th>3</th>\n",
       "      <td>1237650761319514319</td>\n",
       "      <td>186.201096</td>\n",
       "      <td>-2.808180</td>\n",
       "      <td>19.22969</td>\n",
       "      <td>18.04638</td>\n",
       "      <td>17.37830</td>\n",
       "      <td>16.99285</td>\n",
       "      <td>16.76479</td>\n",
       "      <td>1231</td>\n",
       "      <td>301</td>\n",
       "      <td>3</td>\n",
       "      <td>113</td>\n",
       "      <td>376103378880587776</td>\n",
       "      <td>GALAXY</td>\n",
       "      <td>0.000000</td>\n",
       "      <td>334</td>\n",
       "      <td>51993</td>\n",
       "      <td>192</td>\n",
       "    </tr>\n",
       "    <tr>\n",
       "      <th>4</th>\n",
       "      <td>1237648722280317126</td>\n",
       "      <td>124.814240</td>\n",
       "      <td>0.651496</td>\n",
       "      <td>18.76061</td>\n",
       "      <td>17.28682</td>\n",
       "      <td>16.74055</td>\n",
       "      <td>16.55152</td>\n",
       "      <td>16.45902</td>\n",
       "      <td>756</td>\n",
       "      <td>301</td>\n",
       "      <td>5</td>\n",
       "      <td>60</td>\n",
       "      <td>2316149895234349056</td>\n",
       "      <td>STAR</td>\n",
       "      <td>0.000196</td>\n",
       "      <td>2057</td>\n",
       "      <td>53816</td>\n",
       "      <td>632</td>\n",
       "    </tr>\n",
       "    <tr>\n",
       "      <th>...</th>\n",
       "      <td>...</td>\n",
       "      <td>...</td>\n",
       "      <td>...</td>\n",
       "      <td>...</td>\n",
       "      <td>...</td>\n",
       "      <td>...</td>\n",
       "      <td>...</td>\n",
       "      <td>...</td>\n",
       "      <td>...</td>\n",
       "      <td>...</td>\n",
       "      <td>...</td>\n",
       "      <td>...</td>\n",
       "      <td>...</td>\n",
       "      <td>...</td>\n",
       "      <td>...</td>\n",
       "      <td>...</td>\n",
       "      <td>...</td>\n",
       "      <td>...</td>\n",
       "    </tr>\n",
       "    <tr>\n",
       "      <th>149995</th>\n",
       "      <td>1237673758185554973</td>\n",
       "      <td>100.889697</td>\n",
       "      <td>29.106283</td>\n",
       "      <td>19.17071</td>\n",
       "      <td>18.21106</td>\n",
       "      <td>17.80099</td>\n",
       "      <td>17.63203</td>\n",
       "      <td>17.53079</td>\n",
       "      <td>6585</td>\n",
       "      <td>301</td>\n",
       "      <td>6</td>\n",
       "      <td>121</td>\n",
       "      <td>3013004977846118400</td>\n",
       "      <td>STAR</td>\n",
       "      <td>0.000160</td>\n",
       "      <td>2676</td>\n",
       "      <td>54179</td>\n",
       "      <td>352</td>\n",
       "    </tr>\n",
       "    <tr>\n",
       "      <th>149996</th>\n",
       "      <td>1237671262268752282</td>\n",
       "      <td>124.964450</td>\n",
       "      <td>9.635759</td>\n",
       "      <td>19.38253</td>\n",
       "      <td>17.49415</td>\n",
       "      <td>16.55436</td>\n",
       "      <td>16.13420</td>\n",
       "      <td>15.80408</td>\n",
       "      <td>6004</td>\n",
       "      <td>301</td>\n",
       "      <td>5</td>\n",
       "      <td>61</td>\n",
       "      <td>2728125362876737536</td>\n",
       "      <td>GALAXY</td>\n",
       "      <td>0.110984</td>\n",
       "      <td>2423</td>\n",
       "      <td>54149</td>\n",
       "      <td>254</td>\n",
       "    </tr>\n",
       "    <tr>\n",
       "      <th>149997</th>\n",
       "      <td>1237673756573762584</td>\n",
       "      <td>98.821075</td>\n",
       "      <td>26.946457</td>\n",
       "      <td>18.90948</td>\n",
       "      <td>17.73591</td>\n",
       "      <td>17.31252</td>\n",
       "      <td>17.16612</td>\n",
       "      <td>17.07103</td>\n",
       "      <td>6585</td>\n",
       "      <td>301</td>\n",
       "      <td>3</td>\n",
       "      <td>103</td>\n",
       "      <td>3035579600630474752</td>\n",
       "      <td>STAR</td>\n",
       "      <td>0.000097</td>\n",
       "      <td>2696</td>\n",
       "      <td>54167</td>\n",
       "      <td>558</td>\n",
       "    </tr>\n",
       "    <tr>\n",
       "      <th>149998</th>\n",
       "      <td>1237678877782966354</td>\n",
       "      <td>320.766012</td>\n",
       "      <td>9.993010</td>\n",
       "      <td>17.63177</td>\n",
       "      <td>16.10855</td>\n",
       "      <td>15.35884</td>\n",
       "      <td>15.21912</td>\n",
       "      <td>15.11279</td>\n",
       "      <td>7777</td>\n",
       "      <td>301</td>\n",
       "      <td>6</td>\n",
       "      <td>66</td>\n",
       "      <td>821986413082863616</td>\n",
       "      <td>STAR</td>\n",
       "      <td>-0.000218</td>\n",
       "      <td>730</td>\n",
       "      <td>52466</td>\n",
       "      <td>289</td>\n",
       "    </tr>\n",
       "    <tr>\n",
       "      <th>149999</th>\n",
       "      <td>1237671124296204669</td>\n",
       "      <td>132.118725</td>\n",
       "      <td>10.789925</td>\n",
       "      <td>19.17574</td>\n",
       "      <td>17.70970</td>\n",
       "      <td>16.85068</td>\n",
       "      <td>16.41647</td>\n",
       "      <td>16.14956</td>\n",
       "      <td>5972</td>\n",
       "      <td>301</td>\n",
       "      <td>4</td>\n",
       "      <td>111</td>\n",
       "      <td>2898128276260153344</td>\n",
       "      <td>GALAXY</td>\n",
       "      <td>0.174877</td>\n",
       "      <td>2574</td>\n",
       "      <td>54084</td>\n",
       "      <td>225</td>\n",
       "    </tr>\n",
       "  </tbody>\n",
       "</table>\n",
       "<p>150000 rows × 18 columns</p>\n",
       "</div>"
      ],
      "text/plain": [
       "                      objid          ra        dec         u         g  \\\n",
       "0       1237655107828973746  138.937318  49.779249  17.32152  16.28594   \n",
       "1       1237678584114511952   31.594644  22.451246  18.13019  17.47997   \n",
       "2       1237680298881122360  333.991221  19.977552  18.94798  18.80473   \n",
       "3       1237650761319514319  186.201096  -2.808180  19.22969  18.04638   \n",
       "4       1237648722280317126  124.814240   0.651496  18.76061  17.28682   \n",
       "...                     ...         ...        ...       ...       ...   \n",
       "149995  1237673758185554973  100.889697  29.106283  19.17071  18.21106   \n",
       "149996  1237671262268752282  124.964450   9.635759  19.38253  17.49415   \n",
       "149997  1237673756573762584   98.821075  26.946457  18.90948  17.73591   \n",
       "149998  1237678877782966354  320.766012   9.993010  17.63177  16.10855   \n",
       "149999  1237671124296204669  132.118725  10.789925  19.17574  17.70970   \n",
       "\n",
       "               r         i         z   run  rerun  camcol  field  \\\n",
       "0       15.88471  15.66384  15.46604  2243    301       3    152   \n",
       "1       16.97868  16.75768  16.83714  7709    301       3     65   \n",
       "2       18.75522  18.72968  18.66552  8108    301       5     79   \n",
       "3       17.37830  16.99285  16.76479  1231    301       3    113   \n",
       "4       16.74055  16.55152  16.45902   756    301       5     60   \n",
       "...          ...       ...       ...   ...    ...     ...    ...   \n",
       "149995  17.80099  17.63203  17.53079  6585    301       6    121   \n",
       "149996  16.55436  16.13420  15.80408  6004    301       5     61   \n",
       "149997  17.31252  17.16612  17.07103  6585    301       3    103   \n",
       "149998  15.35884  15.21912  15.11279  7777    301       6     66   \n",
       "149999  16.85068  16.41647  16.14956  5972    301       4    111   \n",
       "\n",
       "                  specobjid   class  redshift  plate    mjd  fiberid  \n",
       "0        862475375345690624  GALAXY  0.028514    766  52247      131  \n",
       "1       2303710287351539712     QSO  1.694959   2046  53327      433  \n",
       "2       8532228490187264000     QSO  2.046520   7578  56956      578  \n",
       "3        376103378880587776  GALAXY  0.000000    334  51993      192  \n",
       "4       2316149895234349056    STAR  0.000196   2057  53816      632  \n",
       "...                     ...     ...       ...    ...    ...      ...  \n",
       "149995  3013004977846118400    STAR  0.000160   2676  54179      352  \n",
       "149996  2728125362876737536  GALAXY  0.110984   2423  54149      254  \n",
       "149997  3035579600630474752    STAR  0.000097   2696  54167      558  \n",
       "149998   821986413082863616    STAR -0.000218    730  52466      289  \n",
       "149999  2898128276260153344  GALAXY  0.174877   2574  54084      225  \n",
       "\n",
       "[150000 rows x 18 columns]"
      ]
     },
     "execution_count": 5,
     "metadata": {},
     "output_type": "execute_result"
    }
   ],
   "source": [
    "data"
   ]
  },
  {
   "cell_type": "code",
   "execution_count": null,
   "metadata": {},
   "outputs": [
    {
     "data": {
      "text/plain": [
       "0         17.32152\n",
       "1         18.13019\n",
       "2         18.94798\n",
       "3         19.22969\n",
       "4         18.76061\n",
       "            ...   \n",
       "149995    19.17071\n",
       "149996    19.38253\n",
       "149997    18.90948\n",
       "149998    17.63177\n",
       "149999    19.17574\n",
       "Name: u, Length: 150000, dtype: float64"
      ]
     },
     "execution_count": 6,
     "metadata": {},
     "output_type": "execute_result"
    }
   ],
   "source": [
    "data['u']"
   ]
  },
  {
   "cell_type": "code",
   "execution_count": null,
   "metadata": {},
   "outputs": [
    {
     "data": {
      "text/plain": [
       "0         GALAXY\n",
       "1            QSO\n",
       "2            QSO\n",
       "3         GALAXY\n",
       "4           STAR\n",
       "           ...  \n",
       "149995      STAR\n",
       "149996    GALAXY\n",
       "149997      STAR\n",
       "149998      STAR\n",
       "149999    GALAXY\n",
       "Name: class, Length: 150000, dtype: object"
      ]
     },
     "execution_count": 8,
     "metadata": {},
     "output_type": "execute_result"
    }
   ],
   "source": [
    "data['class']"
   ]
  },
  {
   "cell_type": "code",
   "execution_count": 13,
   "metadata": {},
   "outputs": [
    {
     "name": "stdout",
     "output_type": "stream",
     "text": [
      "Index(['objid', 'ra', 'dec', 'u', 'g', 'r', 'i', 'z', 'run', 'rerun', 'camcol',\n",
      "       'field', 'specobjid', 'class', 'redshift', 'plate', 'mjd', 'fiberid',\n",
      "       'u-g', 'g-r', 'r-i', 'i-z'],\n",
      "      dtype='object')\n"
     ]
    }
   ],
   "source": [
    "data['u-g'] = data['u'] - data['g']\n",
    "data['g-r'] = data['g'] - data['r']\n",
    "data['r-i'] = data['r'] - data['i']\n",
    "data['i-z'] = data['i'] - data['z']\n",
    "\n",
    "\n",
    "print(data.columns)\n",
    "\n",
    "\n",
    "\n"
   ]
  },
  {
   "cell_type": "markdown",
   "metadata": {},
   "source": [
    "(b) Make a kNN model. Vary $k$ from 1 to 30 and make a figure showing training/test accuracy vs. $k$. What is the optimal $k$ that results in the highest test accuracy? (1 pt)"
   ]
  },
  {
   "cell_type": "code",
   "execution_count": 14,
   "metadata": {},
   "outputs": [
    {
     "data": {
      "image/png": "[encoded data removed]",
      "text/plain": [
       "<Figure size 1000x600 with 1 Axes>"
      ]
     },
     "metadata": {},
     "output_type": "display_data"
    },
    {
     "name": "stdout",
     "output_type": "stream",
     "text": [
      "The optimal k is: 9\n"
     ]
    }
   ],
   "source": [
    "import pandas as pd\n",
    "from sklearn.model_selection import train_test_split\n",
    "from sklearn.preprocessing import StandardScaler\n",
    "from sklearn.neighbors import KNeighborsClassifier\n",
    "from sklearn.metrics import accuracy_score\n",
    "import matplotlib.pyplot as plt\n",
    "\n",
    "# 1. Load the data\n",
    "data = pd.read_csv('sdss/SDSS.csv')\n",
    "\n",
    "data['u-g'] = data['u'] - data['g']\n",
    "data['g-r'] = data['g'] - data['r']\n",
    "data['r-i'] = data['r'] - data['i']\n",
    "data['i-z'] = data['i'] - data['z']\n",
    "\n",
    "# Extract the colors and the target label\n",
    "X = data[['u-g', 'g-r', 'r-i', 'i-z']]\n",
    "y = data['class'] \n",
    "\n",
    "# 2. Preprocess the data\n",
    "# Split data\n",
    "X_train, X_test, y_train, y_test = train_test_split(X, y, test_size=0.2, random_state=42)\n",
    "\n",
    "# Scale features\n",
    "scaler = StandardScaler()\n",
    "X_train = scaler.fit_transform(X_train)\n",
    "X_test = scaler.transform(X_test)\n",
    "\n",
    "# 3. Implement k-NN for different values of k\n",
    "train_accuracies = []\n",
    "test_accuracies = []\n",
    "\n",
    "k_values = list(range(1, 31))\n",
    "\n",
    "for k in k_values:\n",
    "    knn = KNeighborsClassifier(n_neighbors=k)\n",
    "    knn.fit(X_train, y_train)\n",
    "    \n",
    "    train_accuracies.append(accuracy_score(y_train, knn.predict(X_train)))\n",
    "    test_accuracies.append(accuracy_score(y_test, knn.predict(X_test)))\n",
    "\n",
    "# 4. Plot accuracies vs. k\n",
    "plt.figure(figsize=(10, 6))\n",
    "plt.plot(k_values, train_accuracies, label=\"Training Accuracy\", marker='o')\n",
    "plt.plot(k_values, test_accuracies, label=\"Test Accuracy\", marker='o')\n",
    "plt.xlabel(\"Value of k\")\n",
    "plt.ylabel(\"Accuracy\")\n",
    "plt.title(\"Training/Test Accuracy vs. k\")\n",
    "plt.legend()\n",
    "plt.grid(True)\n",
    "plt.show()\n",
    "\n",
    "# 5. Identify the optimal k\n",
    "optimal_k = k_values[test_accuracies.index(max(test_accuracies))]\n",
    "print(f\"The optimal k is: {optimal_k}\")\n",
    "\n",
    "\n",
    "\n",
    "\n",
    "\n",
    "\n",
    "\n",
    "\n"
   ]
  },
  {
   "cell_type": "markdown",
   "metadata": {},
   "source": [
    "(c) Make a DT model. Vary max_depth from 1 to 30 and make a figure showing training/test accuracy vs. max_depth. What is the optimal max_depth that results in the highest test accuracy? (1 pt)"
   ]
  },
  {
   "cell_type": "code",
   "execution_count": 16,
   "metadata": {},
   "outputs": [
    {
     "data": {
      "image/png": "[encoded data removed]",
      "text/plain": [
       "<Figure size 1000x600 with 1 Axes>"
      ]
     },
     "metadata": {},
     "output_type": "display_data"
    },
    {
     "name": "stdout",
     "output_type": "stream",
     "text": [
      "The optimal depth is: 9\n"
     ]
    }
   ],
   "source": [
    "\n",
    "import pandas as pd\n",
    "from sklearn.model_selection import train_test_split\n",
    "from sklearn.preprocessing import StandardScaler\n",
    "from sklearn.tree import DecisionTreeClassifier\n",
    "from sklearn.metrics import accuracy_score\n",
    "import matplotlib.pyplot as plt\n",
    "\n",
    "# 1. Load the data\n",
    "data = pd.read_csv('sdss/SDSS.csv')\n",
    "\n",
    "data['u-g'] = data['u'] - data['g']\n",
    "data['g-r'] = data['g'] - data['r']\n",
    "data['r-i'] = data['r'] - data['i']\n",
    "data['i-z'] = data['i'] - data['z']\n",
    "\n",
    "# Extract the colors and the target label\n",
    "X = data[['u-g', 'g-r', 'r-i', 'i-z']]\n",
    "y = data['class'] \n",
    "\n",
    "# 2. Preprocess the data\n",
    "# Split data\n",
    "X_train, X_test, y_train, y_test = train_test_split(X, y, test_size=0.2, random_state=42)\n",
    "\n",
    "# Scale features\n",
    "scaler = StandardScaler()\n",
    "X_train = scaler.fit_transform(X_train)\n",
    "X_test = scaler.transform(X_test)\n",
    "\n",
    "# implement DT with varying depths\n",
    "train_accuracies_dt = []\n",
    "test_accuracies_dt = []\n",
    "\n",
    "max_depth_values = list(range(1, 31))\n",
    "\n",
    "for max_depth in max_depth_values:\n",
    "    dt_model = DecisionTreeClassifier()\n",
    "    dt_model.fit(X_train, y_train)\n",
    "\n",
    "    train_accuracies_dt.append(accuracy_score(y_train, knn.predict(X_train)))\n",
    "    test_accuracies_dt.append(accuracy_score(y_test, knn.predict(X_test)))\n",
    "\n",
    "\n",
    "# 4. Plot accuracies vs. k\n",
    "plt.figure(figsize=(10, 6))\n",
    "plt.plot(max_depth_values, train_accuracies, label=\"Training Accuracy\", marker='o')\n",
    "plt.plot(max_depth_values, test_accuracies, label=\"Test Accuracy\", marker='o')\n",
    "plt.xlabel(\"Value of max_depth\")\n",
    "plt.ylabel(\"Accuracy\")\n",
    "plt.title(\"Training/Test Accuracy vs. Depth\")\n",
    "plt.legend()\n",
    "plt.grid(True)\n",
    "plt.show()\n",
    "\n",
    "# 5. Identify the optimal k\n",
    "optimal_depth = max_depth_values[test_accuracies.index(max(test_accuracies))]\n",
    "print(f\"The optimal depth is: {optimal_depth}\")\n",
    "\n",
    "\n",
    "\n",
    "\n",
    "\n"
   ]
  },
  {
   "cell_type": "markdown",
   "metadata": {},
   "source": [
    "(d) For your best decision tree model, which features are the most important? (1 pt)"
   ]
  },
  {
   "cell_type": "code",
   "execution_count": 18,
   "metadata": {},
   "outputs": [
    {
     "data": {
      "image/png": "[encoded data removed]",
      "text/plain": [
       "<Figure size 1000x600 with 1 Axes>"
      ]
     },
     "metadata": {},
     "output_type": "display_data"
    }
   ],
   "source": [
    "import matplotlib.pyplot as plt\n",
    "\n",
    "# Assuming dt_model is your trained Decision Tree model\n",
    "feature_importances = dt_model.feature_importances_\n",
    "\n",
    "# Create a bar plot for feature importances\n",
    "plt.figure(figsize=(10, 6))\n",
    "plt.bar(X.columns, feature_importances, align='center')\n",
    "plt.xlabel('Features')\n",
    "plt.ylabel('Importance')\n",
    "plt.title('Feature Importances')\n",
    "plt.show()\n",
    "\n",
    "\n",
    "\n",
    "\n",
    "\n",
    "\n",
    "\n"
   ]
  },
  {
   "cell_type": "markdown",
   "metadata": {},
   "source": [
    "(e) SDSS_evaluation.csv file contains another 150,000 stars, galaxies, and quasars. Using the best kNN and decision tree models you obtained, make predictions for this new dataset and compute the accuracy. (1 pt)"
   ]
  },
  {
   "cell_type": "code",
   "execution_count": 4,
   "metadata": {},
   "outputs": [
    {
     "name": "stdout",
     "output_type": "stream",
     "text": [
      "Train accuracy at k=9: 0.8885583333333333\n",
      "Test accuracy at k=9: 0.8731333333333333\n",
      "Train accuracy at depth=9: 0.8734083333333333\n",
      "Test accuracy at depth=9: 0.8610333333333333\n"
     ]
    }
   ],
   "source": [
    "import pandas as pd\n",
    "from sklearn.model_selection import train_test_split\n",
    "from sklearn.preprocessing import StandardScaler\n",
    "from sklearn.neighbors import KNeighborsClassifier\n",
    "from sklearn.tree import DecisionTreeClassifier\n",
    "from sklearn.metrics import accuracy_score\n",
    "import matplotlib.pyplot as plt\n",
    "\n",
    "# 1. Load the data\n",
    "data = pd.read_csv('sdss/SDSS_evaluation.csv')\n",
    "\n",
    "data['u-g'] = data['u'] - data['g']\n",
    "data['g-r'] = data['g'] - data['r']\n",
    "data['r-i'] = data['r'] - data['i']\n",
    "data['i-z'] = data['i'] - data['z']\n",
    "\n",
    "# Extract the colors and the target label\n",
    "X = data[['u-g', 'g-r', 'r-i', 'i-z']]\n",
    "y = data['class'] \n",
    "\n",
    "# 2. Preprocess the data\n",
    "# Split data\n",
    "X_train, X_test, y_train, y_test = train_test_split(X, y, test_size=0.2, random_state=42)\n",
    "\n",
    "# Scale features\n",
    "scaler = StandardScaler()\n",
    "X_train = scaler.fit_transform(X_train)\n",
    "X_test = scaler.transform(X_test)\n",
    "\n",
    "\n",
    "knn = KNeighborsClassifier(n_neighbors=9)\n",
    "knn.fit(X_train, y_train)\n",
    "\n",
    "train_accuracy = accuracy_score(y_train, knn.predict(X_train))\n",
    "test_accuracy = accuracy_score(y_test, knn.predict(X_test))\n",
    "\n",
    "print(\"Train accuracy at k=9:\", train_accuracy)\n",
    "print(\"Test accuracy at k=9:\", test_accuracy)\n",
    "\n",
    "dec = DecisionTreeClassifier(max_depth=9)\n",
    "dec.fit(X_train, y_train)\n",
    "\n",
    "train_accuracy = accuracy_score(y_train, dec.predict(X_train))\n",
    "test_accuracy = accuracy_score(y_test, dec.predict(X_test))\n",
    "\n",
    "print(\"Train accuracy at depth=9:\", train_accuracy)\n",
    "print(\"Test accuracy at depth=9:\", test_accuracy)\n",
    "\n",
    "\n",
    "\n"
   ]
  },
  {
   "cell_type": "markdown",
   "metadata": {},
   "source": [
    "(f) You should have gotten poor performance from your kNN and decision tree models unless you did some magic. Have a look at the your training/evaluation datasets and discuss what might have caused poor performace. (1 pt)"
   ]
  },
  {
   "cell_type": "code",
   "execution_count": 28,
   "metadata": {},
   "outputs": [
    {
     "name": "stdout",
     "output_type": "stream",
     "text": [
      "              objid             ra            dec              u  \\\n",
      "count  1.500000e+05  150000.000000  150000.000000  150000.000000   \n",
      "mean   1.237665e+18     174.459082      23.880159      21.644338   \n",
      "std    8.366967e+12      97.316018      19.663852       1.911476   \n",
      "min    1.237646e+18       0.000880     -18.785328      15.075110   \n",
      "25%    1.237659e+18     125.617636       4.751877      20.161220   \n",
      "50%    1.237663e+18     176.486774      23.801636      21.870550   \n",
      "75%    1.237668e+18     231.676173      39.796504      23.140193   \n",
      "max    1.237681e+18     359.999810      83.584031      24.999840   \n",
      "\n",
      "                   g              r              i              z  \\\n",
      "count  150000.000000  150000.000000  150000.000000  150000.000000   \n",
      "mean       20.417033      19.511881      18.999241      18.707471   \n",
      "std         1.977128       1.860274       1.789266       1.808842   \n",
      "min        15.001870      12.520460      11.847220      11.956510   \n",
      "25%        18.719590      17.852895      17.461927      17.218663   \n",
      "50%        20.834625      19.931785      19.293620      18.925105   \n",
      "75%        21.949587      20.964343      20.382017      19.971673   \n",
      "max        24.999830      29.571860      32.141470      29.383740   \n",
      "\n",
      "                 run     rerun  ...          field     specobjid  \\\n",
      "count  150000.000000  150000.0  ...  150000.000000  1.500000e+05   \n",
      "mean     4490.873053     301.0  ...     182.115393  5.670545e+18   \n",
      "std      1948.093306       0.0  ...     143.029851  3.365118e+18   \n",
      "min       109.000000     301.0  ...      11.000000  2.995130e+17   \n",
      "25%      3187.000000     301.0  ...      82.000000  2.614451e+18   \n",
      "50%      4192.000000     301.0  ...     145.000000  5.450068e+18   \n",
      "75%      5330.000000     301.0  ...     238.000000  8.330599e+18   \n",
      "max      8162.000000     301.0  ...     989.000000  1.317779e+19   \n",
      "\n",
      "            redshift          plate            mjd        fiberid  \\\n",
      "count  150000.000000  150000.000000  150000.000000  150000.000000   \n",
      "mean        0.575036    5036.348973   55513.445120     437.898347   \n",
      "std         0.741393    2988.807094    1851.323451     271.982928   \n",
      "min        -0.009971     266.000000   51608.000000       1.000000   \n",
      "25%         0.048007    2322.000000   54082.000000     210.000000   \n",
      "50%         0.366401    4840.500000   55855.000000     415.000000   \n",
      "75%         0.725850    7399.000000   56780.000000     632.000000   \n",
      "max         7.021413   11704.000000   58543.000000    1000.000000   \n",
      "\n",
      "                 u-g            g-r            r-i            i-z  \n",
      "count  150000.000000  150000.000000  150000.000000  150000.000000  \n",
      "mean        1.227305       0.905152       0.512641       0.291770  \n",
      "std         0.919834       0.679150       0.459824       0.391776  \n",
      "min        -4.904950     -12.318610     -14.649070     -13.162490  \n",
      "25%         0.543818       0.344463       0.197027       0.117560  \n",
      "50%         1.196970       0.839610       0.444660       0.321495  \n",
      "75%         1.851200       1.481190       0.808102       0.445443  \n",
      "max         9.379830       7.940000      10.730430      11.864040  \n",
      "\n",
      "[8 rows x 21 columns] \n",
      "\n",
      "class\n",
      "GALAXY    86323\n",
      "STAR      33085\n",
      "QSO       30592\n",
      "Name: count, dtype: int64\n"
     ]
    },
    {
     "data": {
      "image/png": "[encoded data removed]",
      "text/plain": [
       "<Figure size 640x480 with 2 Axes>"
      ]
     },
     "metadata": {},
     "output_type": "display_data"
    }
   ],
   "source": [
    "import seaborn as sns\n",
    "print(data.describe(), \"\\n\")\n",
    "print(data['class'].value_counts())\n",
    "\n",
    "\n",
    "correlation_matrix = data[['u-g', 'g-r', 'r-i', 'i-z']].corr()\n",
    "sns.heatmap(correlation_matrix, annot=True)\n",
    "plt.show()\n",
    "\n",
    "\n",
    "\n"
   ]
  },
  {
   "cell_type": "markdown",
   "metadata": {},
   "source": [
    "The heatmap shows that the data was perfect at predicting itself, but nearly always failed when trying to predict any other relationship. This could be due to the fact that the further apart wavelengths discussed have no relation to each other, which would explain why u-g is approximately 25% correct at predicting g-r, because they share a wavelength."
   ]
  }
 ],
 "metadata": {
  "kernelspec": {
   "display_name": "Python 3 (ipykernel)",
   "language": "python",
   "name": "python3"
  },
  "language_info": {
   "codemirror_mode": {
    "name": "ipython",
    "version": 3
   },
   "file_extension": ".py",
   "mimetype": "text/x-python",
   "name": "python",
   "nbconvert_exporter": "python",
   "pygments_lexer": "ipython3",
   "version": "3.10.7"
  }
 },
 "nbformat": 4,
 "nbformat_minor": 4
}
